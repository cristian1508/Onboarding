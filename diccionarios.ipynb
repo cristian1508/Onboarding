{
 "cells": [
  {
   "cell_type": "markdown",
   "metadata": {},
   "source": [
    "# Ejercicios de la Kata del modulo 8\n",
    "## Crear diccionarios\n",
    "#### Ejercicio 1"
   ]
  },
  {
   "cell_type": "code",
   "execution_count": 4,
   "metadata": {},
   "outputs": [
    {
     "name": "stdout",
     "output_type": "stream",
     "text": [
      "Marte tiene  4 lunas\n",
      "Marte su circunferencia polar es  6752\n",
      "Marte su circunferencia ecuatorial es:  6792\n"
     ]
    }
   ],
   "source": [
    "planet = {\n",
    "    'name' : 'Marte',\n",
    "    'moons' : 4\n",
    "}\n",
    "print(planet.get('name'), 'tiene ',str(planet.get('moons')), 'lunas')\n",
    "\n",
    "planet['circunferencia'] = {\n",
    "    'polar' : 6752,\n",
    "    'ecuatorial' : 6792\n",
    "}\n",
    "\n",
    "print(planet['name'], 'su circunferencia polar es ', str(planet['circunferencia']['polar']))\n",
    "print(planet['name'], 'su circunferencia ecuatorial es: ', str(planet['circunferencia']['ecuatorial']))"
   ]
  },
  {
   "cell_type": "markdown",
   "metadata": {},
   "source": [
    "#### Ejercicio 2\n"
   ]
  },
  {
   "cell_type": "code",
   "execution_count": 5,
   "metadata": {},
   "outputs": [
    {
     "name": "stdout",
     "output_type": "stream",
     "text": [
      "El total de lunas en los planetas son:  214\n",
      "El promedio de lunas por planeta es:  17\n"
     ]
    }
   ],
   "source": [
    "planet_moons = {\n",
    "    'mercury': 0,\n",
    "    'venus': 0,\n",
    "    'earth': 1,\n",
    "    'mars': 2,\n",
    "    'jupiter': 79,\n",
    "    'saturn': 82,\n",
    "    'uranus': 27,\n",
    "    'neptune': 14,\n",
    "    'pluto': 5,\n",
    "    'haumea': 2,\n",
    "    'makemake': 1,\n",
    "    'eris': 1\n",
    "}\n",
    "\n",
    "sum_moons = sum(planet_moons.values())\n",
    "names = len(planet_moons.keys())\n",
    "print('El total de lunas en los planetas son: ', sum_moons)\n",
    "promedio = int(sum_moons / names)\n",
    "print('El promedio de lunas por planeta es: ', promedio)"
   ]
  }
 ],
 "metadata": {
  "interpreter": {
   "hash": "5322818cae43cf6468214953b049884cb6ca7e8071f01fca2a6d6ce521d192bd"
  },
  "kernelspec": {
   "display_name": "Python 3.10.2 64-bit",
   "language": "python",
   "name": "python3"
  },
  "language_info": {
   "codemirror_mode": {
    "name": "ipython",
    "version": 3
   },
   "file_extension": ".py",
   "mimetype": "text/x-python",
   "name": "python",
   "nbconvert_exporter": "python",
   "pygments_lexer": "ipython3",
   "version": "3.10.2"
  },
  "orig_nbformat": 4
 },
 "nbformat": 4,
 "nbformat_minor": 2
}
