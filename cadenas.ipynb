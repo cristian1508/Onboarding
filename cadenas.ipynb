{
 "cells": [
  {
   "cell_type": "markdown",
   "metadata": {},
   "source": [
    "# Dividir cadenas\n",
    "## Ejercicio 1\n",
    "### Transformar cadenas/Hacer substrings de una cadena general"
   ]
  },
  {
   "cell_type": "code",
   "execution_count": 1,
   "metadata": {},
   "outputs": [
    {
     "name": "stdout",
     "output_type": "stream",
     "text": [
      "THE MOST PAINFUL VERSES ARE: \n",
      "Now my baby's dancing\n",
      "But she's dancing with another man\n"
     ]
    }
   ],
   "source": [
    "song = \"\"\"It all just sounds like ooh, ooh, ooh, hoo.\n",
    "Mm, too young, too dumb to realize.\n",
    "That I should have bought you flowers.\n",
    "And held your hand.\n",
    "Should have gave you all my hours.\n",
    "When I had the chance.\n",
    "Take you to every party 'cause all you wanted to do was dance.\n",
    "Now my baby's dancing.\n",
    "But she's dancing with another man\"\"\".split('.\\n')\n",
    "hurt_words = ['Now ', 'another man',]\n",
    "#print(song)\n",
    "title = 'The most painful verses are: '.upper()\n",
    "print(title)\n",
    "for verses in song:\n",
    "    for hurt_word in hurt_words:\n",
    "       if hurt_word in verses:\n",
    "           print(verses)\n"
   ]
  },
  {
   "cell_type": "code",
   "execution_count": 2,
   "metadata": {},
   "outputs": [
    {
     "name": "stdout",
     "output_type": "stream",
     "text": [
      "This yearly drift is not significant enough to cause immediate effects on Earth\n",
      "The highest daylight temperature of the Moon is 127 C.\n",
      "This yearly drift is not significant enough to cause immediate effects on Earth\n",
      "The highest daylight temperature of the Moon is 127 Celsius.\n"
     ]
    }
   ],
   "source": [
    "text = \"\"\"Interesting facts about the Moon. \n",
    "The Moon is Earth's only satellite. \n",
    "There are several interesting facts about the Moon and how it affects life here on Earth. \n",
    "On average, the Moon moves 4cm away from the Earth every year.\n",
    "This yearly drift is not significant enough to cause immediate effects on Earth.\n",
    "The highest daylight temperature of the Moon is 127 C.\"\"\".split('.\\n') \n",
    "### .split() es un metodo que aplica en stings y retorna un array de substrings, se puede controlar con paramentro\n",
    "### es muy importante tomar en cuenta que los espacios son parte de la cadena\n",
    "key_words = ['effects ', 'temperature ']\n",
    "for text_sections in text:\n",
    "    for key_word in key_words:\n",
    "        if key_word in text_sections:\n",
    "            print(text_sections)\n",
    "            break\n",
    "\n",
    "for text_sections in text:\n",
    "    for key_word in key_words:\n",
    "        if key_word in text_sections:\n",
    "            print(text_sections.replace(' C', ' Celsius'))\n",
    "            break\n",
    "### .replace es un metodo que reemplaza el primer parametro por el segundo, \n",
    "### es posible asignar el numero de veces que se necesita el evento en el tercer parámetro\n"
   ]
  },
  {
   "cell_type": "markdown",
   "metadata": {},
   "source": [
    "## Ejercicio 2\n",
    "### Formateando cadenas"
   ]
  },
  {
   "cell_type": "code",
   "execution_count": 1,
   "metadata": {},
   "outputs": [],
   "source": [
    "title = 'Gravity on the Universe'\n",
    "planet = input('Enter the name of the planet: ')\n",
    "name = input('Enter the name of the satellite: ')\n",
    "gravity = input('Enter gravity on the satellite in KM: ')\n",
    "gravitym_s = float(gravity) * 1000\n",
    "\n",
    "complete_sentence = \"{}.\\nPlanet name: {}.\\nGravity in {}: {} m/s\".format(title, planet, name, gravitym_s)\n",
    "print(complete_sentence)"
   ]
  }
 ],
 "metadata": {
  "interpreter": {
   "hash": "5322818cae43cf6468214953b049884cb6ca7e8071f01fca2a6d6ce521d192bd"
  },
  "kernelspec": {
   "display_name": "Python 3.10.2 64-bit",
   "language": "python",
   "name": "python3"
  },
  "language_info": {
   "codemirror_mode": {
    "name": "ipython",
    "version": 3
   },
   "file_extension": ".py",
   "mimetype": "text/x-python",
   "name": "python",
   "nbconvert_exporter": "python",
   "pygments_lexer": "ipython3",
   "version": "3.10.2"
  },
  "orig_nbformat": 4
 },
 "nbformat": 4,
 "nbformat_minor": 2
}
