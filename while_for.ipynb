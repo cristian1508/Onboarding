{
 "cells": [
  {
   "cell_type": "markdown",
   "metadata": {},
   "source": [
    "# Ejercicos 1 y 2 de la Kata 7\n",
    "### Creacion de ciclos While y For"
   ]
  },
  {
   "cell_type": "code",
   "execution_count": 1,
   "metadata": {},
   "outputs": [
    {
     "name": "stdout",
     "output_type": "stream",
     "text": [
      "planeta 1 Mercurio\n",
      "planeta 2 Venus\n",
      "planeta 3 Tierra\n",
      "planeta 4 Marte\n",
      "planeta 5 Jupiter\n",
      "planeta 6 Saturno\n",
      "planeta 7 Urano\n",
      "planeta 8 Neptuno\n"
     ]
    }
   ],
   "source": [
    "user_input = ''\n",
    "planets = []\n",
    "\n",
    "while user_input.lower() != 'hecho':\n",
    "    if user_input:\n",
    "        planets.append(user_input)\n",
    "    user_input = input('Ingresa el nomnre de un planeta, o hecho si ya has terminado ')\n",
    "\n",
    "contador = 1\n",
    "for planet in planets:\n",
    "    print('planeta', contador, planet.capitalize())\n",
    "    contador = contador + 1 "
   ]
  }
 ],
 "metadata": {
  "interpreter": {
   "hash": "5322818cae43cf6468214953b049884cb6ca7e8071f01fca2a6d6ce521d192bd"
  },
  "kernelspec": {
   "display_name": "Python 3.10.2 64-bit",
   "language": "python",
   "name": "python3"
  },
  "language_info": {
   "codemirror_mode": {
    "name": "ipython",
    "version": 3
   },
   "file_extension": ".py",
   "mimetype": "text/x-python",
   "name": "python",
   "nbconvert_exporter": "python",
   "pygments_lexer": "ipython3",
   "version": "3.10.2"
  },
  "orig_nbformat": 4
 },
 "nbformat": 4,
 "nbformat_minor": 2
}
