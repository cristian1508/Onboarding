{
 "cells": [
  {
   "cell_type": "markdown",
   "metadata": {},
   "source": [
    "# Funciones y argumentos\n",
    "### Ejercicio 1 Trabajar con argumentos en funciones"
   ]
  },
  {
   "cell_type": "code",
   "execution_count": 17,
   "metadata": {},
   "outputs": [
    {
     "name": "stdout",
     "output_type": "stream",
     "text": [
      "Tank      Fuel percent\n",
      "------  --------------\n",
      "Tank 1              35\n",
      "Tank 2              95\n",
      "Tank 3              62  The fuel average is 64.0 percent\n"
     ]
    }
   ],
   "source": [
    "from statistics import mean as m\n",
    "from tabulate import tabulate\n",
    "\n",
    "fueltank1 = int(input(\"Enter the fuel percent of tank 1: \"))\n",
    "fueltank2 = int(input(\"Enter the fuel percent of tank 2: \"))\n",
    "fueltank3 = int(input(\"Enter the fuel percent of tank 3: \"))\n",
    "\n",
    "def fuel_situation(fueltank1, fueltank2, fueltank3):\n",
    "    return f\"\"\" The fuel average percent is {fuel_average([fueltank1, fueltank2, fueltank3])} percent\"\"\"\n",
    "\n",
    "def fuel_average(values):\n",
    "    all_fuel = sum(values)\n",
    "    number_of_tanks = len(values)\n",
    "    return all_fuel /number_of_tanks\n",
    "\n",
    "d = [ [\"Tank 1\", fueltank1],\n",
    "    [\"Tank 2\", fueltank2],\n",
    "    [\"Tank 3\", fueltank3]]\n",
    "print(tabulate(d, headers=[\"Tank\", \"Fuel percent\"]), fuel_situation(fueltank1, fueltank2, fueltank3))"
   ]
  },
  {
   "cell_type": "markdown",
   "metadata": {},
   "source": [
    "### Ejercicio 2 Trabajo con argumentos de palabras clave"
   ]
  },
  {
   "cell_type": "code",
   "execution_count": 24,
   "metadata": {},
   "outputs": [
    {
     "name": "stdout",
     "output_type": "stream",
     "text": [
      "\n",
      "    Mission to Moon\n",
      "    Total travel time: 74 minutes\n",
      "    Total fuel left: 545000\n",
      "    main tank --> 255000 gallons left\n",
      "exte tank --> 290000 gallons left\n",
      "\n"
     ]
    }
   ],
   "source": [
    "def mission_report(destination, *time_minutes, **total_fuel):\n",
    "    main_report = f\"\"\"\n",
    "    Mission to {destination}\n",
    "    Total travel time: {sum(time_minutes)} minutes\n",
    "    Total fuel left: {sum(total_fuel.values())}\n",
    "    \"\"\"\n",
    "    for tank_name, gallons in total_fuel.items():\n",
    "        main_report += f\"{tank_name} tank --> {gallons} gallons left\\n\"\n",
    "    return main_report\n",
    "\n",
    "print(mission_report(\"Moon\", 8, 11, 55, main=255000, exte=290000))"
   ]
  }
 ],
 "metadata": {
  "interpreter": {
   "hash": "5322818cae43cf6468214953b049884cb6ca7e8071f01fca2a6d6ce521d192bd"
  },
  "kernelspec": {
   "display_name": "Python 3.10.2 64-bit",
   "language": "python",
   "name": "python3"
  },
  "language_info": {
   "codemirror_mode": {
    "name": "ipython",
    "version": 3
   },
   "file_extension": ".py",
   "mimetype": "text/x-python",
   "name": "python",
   "nbconvert_exporter": "python",
   "pygments_lexer": "ipython3",
   "version": "3.10.2"
  },
  "orig_nbformat": 4
 },
 "nbformat": 4,
 "nbformat_minor": 2
}
