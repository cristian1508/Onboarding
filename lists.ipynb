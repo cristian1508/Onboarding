{
 "cells": [
  {
   "cell_type": "markdown",
   "metadata": {},
   "source": [
    "# Ejercicios con listas\n",
    "### Creacion y uso de listas (añadir y buscar por indice)"
   ]
  },
  {
   "cell_type": "code",
   "execution_count": null,
   "metadata": {},
   "outputs": [],
   "source": [
    "planets = [\"Mercury\", \"Venus\", \"Earth\", \"Mars\", \"Jupiter\", \"Saturn\", \"Uranus\", \"Neptune\"]\n",
    "len_planets = len(planets)\n",
    "print(\"El sistema solar tiene\",len_planets, \"planetas. Estos son:\", planets)\n",
    "planets.append(\"Pluto\")\n",
    "print(\"El ultimo planeta es  \",planets[-1])"
   ]
  },
  {
   "cell_type": "markdown",
   "metadata": {},
   "source": [
    "### Consultar, mostrar y modificar datos de una lista"
   ]
  },
  {
   "cell_type": "code",
   "execution_count": 5,
   "metadata": {},
   "outputs": [
    {
     "name": "stdout",
     "output_type": "stream",
     "text": [
      "Los planetas mas cercanos al sol que Uranus son:  ['Mercury', 'Venus', 'Earth', 'Mars', 'Jupiter', 'Saturn']\n",
      "Los planetas mas lejanos al sol que Uranus son:  ['Neptune']\n"
     ]
    }
   ],
   "source": [
    "planets = [\"Mercury\", \"Venus\", \"Earth\", \"Mars\", \"Jupiter\", \"Saturn\", \"Uranus\", \"Neptune\"]\n",
    "name_planet = input(\"Nombre del planeta: \")\n",
    "index_planet = planets.index(name_planet.capitalize())\n",
    "#print(index_planet)\n",
    "print(\"Los planetas mas cercanos al sol que\", planets[index_planet], \"son: \", planets[0:index_planet])\n",
    "print(\"Los planetas mas lejanos al sol que\", planets[index_planet], \"son: \", planets[index_planet + 1:8])\n",
    "#Cuando no se conoce el final de la lista o la lista crecerá es mejor poner\n",
    "#  [el indice deseado:] para que Python llegue hasta el final de la lista"
   ]
  }
 ],
 "metadata": {
  "interpreter": {
   "hash": "5322818cae43cf6468214953b049884cb6ca7e8071f01fca2a6d6ce521d192bd"
  },
  "kernelspec": {
   "display_name": "Python 3.10.2 64-bit",
   "language": "python",
   "name": "python3"
  },
  "language_info": {
   "codemirror_mode": {
    "name": "ipython",
    "version": 3
   },
   "file_extension": ".py",
   "mimetype": "text/x-python",
   "name": "python",
   "nbconvert_exporter": "python",
   "pygments_lexer": "ipython3",
   "version": "3.10.2"
  },
  "orig_nbformat": 4
 },
 "nbformat": 4,
 "nbformat_minor": 2
}
