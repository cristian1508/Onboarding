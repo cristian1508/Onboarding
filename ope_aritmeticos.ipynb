{
 "cells": [
  {
   "cell_type": "markdown",
   "metadata": {},
   "source": [
    "# Uso de operadores artméticos e ingreso de datos por input"
   ]
  },
  {
   "cell_type": "code",
   "execution_count": 1,
   "metadata": {},
   "outputs": [
    {
     "name": "stdout",
     "output_type": "stream",
     "text": [
      "La distancia entre Tierra y Marte es: 855901226\n"
     ]
    }
   ],
   "source": [
    "planet1 = input(\"Ingresa el nombre del primer planeta: \")\n",
    "dis_1 = input(\"Su distancia al sol es: \")\n",
    "planet2 = input(\"Ingresa el nombre del segundo planeta: \")\n",
    "dis_2 = input(\"Su distancia al sol es: \")\n",
    "planet_dis = abs(int(dis_1) - int(dis_2)) \n",
    "resultado = \"La distancia entre {} y {} es: \".format(planet1, planet2)+ str(planet_dis)\n",
    "print(resultado) "
   ]
  }
 ],
 "metadata": {
  "interpreter": {
   "hash": "5322818cae43cf6468214953b049884cb6ca7e8071f01fca2a6d6ce521d192bd"
  },
  "kernelspec": {
   "display_name": "Python 3.10.2 64-bit",
   "language": "python",
   "name": "python3"
  },
  "language_info": {
   "codemirror_mode": {
    "name": "ipython",
    "version": 3
   },
   "file_extension": ".py",
   "mimetype": "text/x-python",
   "name": "python",
   "nbconvert_exporter": "python",
   "pygments_lexer": "ipython3",
   "version": "3.10.2"
  },
  "orig_nbformat": 4
 },
 "nbformat": 4,
 "nbformat_minor": 2
}
